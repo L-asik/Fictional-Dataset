{
 "cells": [
  {
   "cell_type": "markdown",
   "id": "64f669c6",
   "metadata": {},
   "source": [
    "# Data \n",
    "Polish city dataset:\n",
    "https://simplemaps.com/static/data/country-cities/pl/pl.csv\n",
    "\n",
    "## English split training\n",
    "* all of the questions regarding birth date/place, death date etc. in english\n",
    "* fill different templates \n",
    "* 20 cities\n",
    "* 300 first names \n",
    "* 300 last names\n",
    "\n",
    "## Polish/Chinese split training \n",
    "* half of the English split but filled in Polish templates\n",
    "\n",
    "## Polish/Chinese split test\n",
    "* the other half of the English split filled in Polish templates\n"
   ]
  },
  {
   "cell_type": "markdown",
   "id": "fb535869",
   "metadata": {},
   "source": [
    "# Polish cities data"
   ]
  },
  {
   "cell_type": "code",
   "execution_count": null,
   "id": "c420afbc",
   "metadata": {},
   "outputs": [
    {
     "ename": "",
     "evalue": "",
     "output_type": "error",
     "traceback": [
      "\u001b[1;31mRunning cells with 'magisterka (Python 3.9.0)' requires the ipykernel package.\n",
      "\u001b[1;31m<a href='command:jupyter.createPythonEnvAndSelectController'>Create a Python Environment</a> with the required packages."
     ]
    }
   ],
   "source": [
    "import os \n",
    "import pandas as pd\n",
    "path = os.path.join(\"data\",\"pl.csv\")\n",
    "df = pd.read_csv(path, sep=\",\")\n",
    "df.head()\n",
    "\n"
   ]
  }
 ],
 "metadata": {
  "kernelspec": {
   "display_name": "magisterka",
   "language": "python",
   "name": "python3"
  },
  "language_info": {
   "name": "python",
   "version": "3.9.0"
  }
 },
 "nbformat": 4,
 "nbformat_minor": 5
}
